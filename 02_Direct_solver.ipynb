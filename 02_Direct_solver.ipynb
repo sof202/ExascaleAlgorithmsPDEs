{
  "nbformat": 4,
  "nbformat_minor": 0,
  "metadata": {
    "colab": {
      "provenance": [],
      "include_colab_link": true
    },
    "kernelspec": {
      "name": "python3",
      "display_name": "Python 3"
    },
    "language_info": {
      "name": "python"
    }
  },
  "cells": [
    {
      "cell_type": "markdown",
      "metadata": {
        "id": "view-in-github",
        "colab_type": "text"
      },
      "source": [
        "<a href=\"https://colab.research.google.com/github/sof202/ExascaleAlgorithmsPDEs/blob/main/02_Direct_solver.ipynb\" target=\"_parent\"><img src=\"https://colab.research.google.com/assets/colab-badge.svg\" alt=\"Open In Colab\"/></a>"
      ]
    },
    {
      "cell_type": "code",
      "execution_count": 1,
      "metadata": {
        "colab": {
          "base_uri": "https://localhost:8080/"
        },
        "id": "0s_PBSemmVZH",
        "outputId": "adfcb9ad-6568-4396-fb12-d6f1b7941232"
      },
      "outputs": [
        {
          "output_type": "stream",
          "name": "stdout",
          "text": [
            "Collecting pyamg\n",
            "  Downloading pyamg-5.2.1-cp310-cp310-manylinux_2_17_x86_64.manylinux2014_x86_64.whl (2.0 MB)\n",
            "\u001b[2K     \u001b[90m━━━━━━━━━━━━━━━━━━━━━━━━━━━━━━━━━━━━━━━━\u001b[0m \u001b[32m2.0/2.0 MB\u001b[0m \u001b[31m9.1 MB/s\u001b[0m eta \u001b[36m0:00:00\u001b[0m\n",
            "\u001b[?25hRequirement already satisfied: numpy in /usr/local/lib/python3.10/dist-packages (from pyamg) (1.25.2)\n",
            "Requirement already satisfied: scipy>=1.11.0 in /usr/local/lib/python3.10/dist-packages (from pyamg) (1.11.4)\n",
            "Installing collected packages: pyamg\n",
            "Successfully installed pyamg-5.2.1\n"
          ]
        }
      ],
      "source": [
        "# Install the libraries we need\n",
        "!pip install pyamg\n",
        "import numpy as np\n",
        "import pyamg"
      ]
    },
    {
      "cell_type": "markdown",
      "source": [
        "# Direct solvers\n",
        "\n",
        "A direct solver takes the Matrix `A` and manipulates it to solve the problem `A.x = b`, in much the same way as we would solve simultaneous equations by hand. Gaussian elimination involves taking rows, multiplying and combining them to introduce zeros where we want them.\n",
        "\n",
        "### Model problem\n",
        "We will use `pyamg` to generate some matrices for us."
      ],
      "metadata": {
        "id": "lsjXEmzdmpvU"
      }
    },
    {
      "cell_type": "code",
      "source": [
        "# This will create a 4x4 matrix\n",
        "A = np.array(pyamg.gallery.laplacian.poisson((2, 2)).todense())\n",
        "A"
      ],
      "metadata": {
        "colab": {
          "base_uri": "https://localhost:8080/"
        },
        "id": "JdU7Y8ZCmg3j",
        "outputId": "32498ed0-3801-4b4f-f939-1b43c0499051"
      },
      "execution_count": 2,
      "outputs": [
        {
          "output_type": "execute_result",
          "data": {
            "text/plain": [
              "array([[ 4., -1., -1.,  0.],\n",
              "       [-1.,  4.,  0., -1.],\n",
              "       [-1.,  0.,  4., -1.],\n",
              "       [ 0., -1., -1.,  4.]])"
            ]
          },
          "metadata": {},
          "execution_count": 2
        }
      ]
    },
    {
      "cell_type": "code",
      "source": [
        "# Some example input data\n",
        "y = np.array([1.0, 2.0, 3.0, 4.0])"
      ],
      "metadata": {
        "id": "u-XXbn7wniWN"
      },
      "execution_count": 3,
      "outputs": []
    },
    {
      "cell_type": "code",
      "source": [
        "# MatVec b = A.y\n",
        "b = A @ y\n",
        "b"
      ],
      "metadata": {
        "colab": {
          "base_uri": "https://localhost:8080/"
        },
        "id": "nkSoa2mqn8Hy",
        "outputId": "6f9c1b54-0083-4381-cc68-a66a0cfba105"
      },
      "execution_count": 4,
      "outputs": [
        {
          "output_type": "execute_result",
          "data": {
            "text/plain": [
              "array([-1.,  3.,  7., 11.])"
            ]
          },
          "metadata": {},
          "execution_count": 4
        }
      ]
    },
    {
      "cell_type": "code",
      "source": [
        "# numpy has a built-in solver, so we should be able to solve A.x = b, and get back to our original input \"y\".\n",
        "np.linalg.solve(A, b)"
      ],
      "metadata": {
        "colab": {
          "base_uri": "https://localhost:8080/"
        },
        "id": "Vl7nXJERn8-f",
        "outputId": "4053d69e-ee52-4911-ab8c-c3ff57bd44b3"
      },
      "execution_count": 5,
      "outputs": [
        {
          "output_type": "execute_result",
          "data": {
            "text/plain": [
              "array([1., 2., 3., 4.])"
            ]
          },
          "metadata": {},
          "execution_count": 5
        }
      ]
    },
    {
      "cell_type": "code",
      "source": [
        "%%timeit -n 100\n",
        "np.linalg.solve(A, b)"
      ],
      "metadata": {
        "id": "vd8B-ajSx0T3",
        "outputId": "347dca50-f0c3-471e-c1c8-8c0b85412e61",
        "colab": {
          "base_uri": "https://localhost:8080/"
        }
      },
      "execution_count": 7,
      "outputs": [
        {
          "output_type": "stream",
          "name": "stdout",
          "text": [
            "11.1 µs ± 3.3 µs per loop (mean ± std. dev. of 7 runs, 100 loops each)\n"
          ]
        }
      ]
    },
    {
      "cell_type": "code",
      "source": [
        "# Let's try to solve it ourselves by Gaussian elimination\n",
        "\n",
        "# First, let us make an \"augmented\" matrix, by glueing the RHS vector onto A:\n",
        "\n",
        "B = np.concatenate((A, b.reshape(4, 1)), axis=1)\n",
        "print(B)\n",
        "\n",
        "# This represents the system of equations, and we can now manipulate it by\n",
        "# adding and subtracting rows from each other\n",
        "\n"
      ],
      "metadata": {
        "colab": {
          "base_uri": "https://localhost:8080/"
        },
        "id": "KSJy6QSAoCvB",
        "outputId": "60c95141-571e-4c9c-ac19-6fa2a993b851"
      },
      "execution_count": 8,
      "outputs": [
        {
          "output_type": "stream",
          "name": "stdout",
          "text": [
            "[[ 4. -1. -1.  0. -1.]\n",
            " [-1.  4.  0. -1.  3.]\n",
            " [-1.  0.  4. -1.  7.]\n",
            " [ 0. -1. -1.  4. 11.]]\n"
          ]
        }
      ]
    },
    {
      "cell_type": "code",
      "source": [
        "# Now, we could get rid of B[1, 0] and B[2, 0] if we add row 0 divided by 4 to rows 1 and 2.\n",
        "B[1, :] = B[1, :] + B[0, :]/4\n",
        "B[2, :] = B[2, :] + B[0, :]/4\n",
        "print(B)"
      ],
      "metadata": {
        "colab": {
          "base_uri": "https://localhost:8080/"
        },
        "id": "hU60Ayn3uZZB",
        "outputId": "dd4d5fcd-2ff6-4792-f51a-16eec12b99f0"
      },
      "execution_count": 9,
      "outputs": [
        {
          "output_type": "stream",
          "name": "stdout",
          "text": [
            "[[ 4.   -1.   -1.    0.   -1.  ]\n",
            " [ 0.    3.75 -0.25 -1.    2.75]\n",
            " [ 0.   -0.25  3.75 -1.    6.75]\n",
            " [ 0.   -1.   -1.    4.   11.  ]]\n"
          ]
        }
      ]
    },
    {
      "cell_type": "code",
      "source": [
        "\n",
        "# We could write a function to do this\n",
        "def clear_down(B, row):\n",
        "    # Get the diagonal entry on this row\n",
        "    diag = B[row, row]\n",
        "    # Clear all entries below the diagonal by subtracting scaled copies of this row\n",
        "    for i in range(row + 1, B.shape[0]):\n",
        "        B[i, :] -= B[row, :] * B[i, row]/diag\n",
        "    return B\n",
        "\n",
        "B0 = clear_down(B, 0)\n",
        "B1 = clear_down(B0, 1)\n",
        "B2 = clear_down(B1, 2)\n",
        "print(B2)\n"
      ],
      "metadata": {
        "colab": {
          "base_uri": "https://localhost:8080/"
        },
        "id": "FGs3Pw_0pbpu",
        "outputId": "de4cfa88-4f38-44f9-e6cc-5add285aebdb"
      },
      "execution_count": 10,
      "outputs": [
        {
          "output_type": "stream",
          "name": "stdout",
          "text": [
            "[[ 4.         -1.         -1.          0.         -1.        ]\n",
            " [ 0.          3.75       -0.25       -1.          2.75      ]\n",
            " [ 0.          0.          3.73333333 -1.06666667  6.93333333]\n",
            " [ 0.          0.          0.          3.42857143 13.71428571]]\n"
          ]
        }
      ]
    },
    {
      "cell_type": "code",
      "source": [
        "# The system can now easily be solved\n",
        "\n",
        "# Extract the 4x4 matrix and 4x1 vector from B2\n",
        "A = B2[:4, :4]\n",
        "b = B2[:, 4]\n",
        "\n",
        "x = np.empty(4)\n",
        "\n",
        "# A[3, 3] * x[3] = b[3]\n",
        "x[3] = b[3] / A[3, 3]\n",
        "\n",
        "# A[2, 2] * x[2] + A[2, 3] * x[3] = b[2] - but we know x[3] now... so rearrange\n",
        "x[2] = (b[2] - x[3] * A[2, 3]) / A[2, 2]\n",
        "\n",
        "# etc\n",
        "x[1] = (b[1] - x[2] * A[1, 2] - x[3] * A[1, 3]) / A[1, 1]\n",
        "x[0] = (b[0] - x[1] * A[0, 1] - x[2] * A[0, 2] - x[3] * A[0, 3]) / A[0, 0]\n",
        "\n",
        "# Should be [1. 2. 3. 4.]\n",
        "print(x)"
      ],
      "metadata": {
        "colab": {
          "base_uri": "https://localhost:8080/"
        },
        "id": "0x9syiQ6sSyG",
        "outputId": "7db32da1-f534-477b-da4a-e01bf9393556"
      },
      "execution_count": 11,
      "outputs": [
        {
          "output_type": "stream",
          "name": "stdout",
          "text": [
            "[1. 2. 3. 4.]\n"
          ]
        }
      ]
    },
    {
      "cell_type": "markdown",
      "source": [
        "## Exercise\n",
        "\n",
        "* Write a complete function which performs Gaussian elimination on a matrix + vector system\n",
        "\n",
        "* Test your code on a larger matrix, e.g.\n",
        "* `A = np.array(pyamg.gallery.laplacian.poisson((5, 5)).todense())`\n",
        "* `A = np.random.rand(5, 5)`"
      ],
      "metadata": {
        "id": "wrVGwK6gwE2s"
      }
    },
    {
      "cell_type": "code",
      "source": [
        "# Hint: use the clear_down() routine above as a starting point\n",
        "# Full solution is below!\n",
        "\n",
        "def gaussian_elimation(A,b):\n",
        "  if A.shape[0] != A.shape[1]:\n",
        "    return f\"A is not a square matrix\"\n",
        "  A_num_rows = A.shape[0]\n",
        "  B = np.concatenate((A, b.reshape(A_num_rows, 1)), axis=1)\n",
        "  for row in range(A_num_rows - 1):\n",
        "    B_next = clear_down(B, row)\n",
        "    B = B_next\n",
        "\n",
        "  x = np.empty(A_num_rows)\n",
        "  A = B[:A_num_rows + 1, :A_num_rows]\n",
        "  b = B[:, A_num_rows]\n",
        "\n",
        "  # Start from bottom up to row 0\n",
        "  for row in range(A_num_rows - 1, -1, -1):\n",
        "    # General formula for extracting is to:\n",
        "    #   Get value of b\n",
        "    #   Take away a_n*x_n, a_{n-1}*x_{n-1} ... from this value\n",
        "    #   Do this up until you get to the current row that b is in (as we don't\n",
        "    #     know this value of x yet).\n",
        "    #   Then just divide by the main diagonal as our diagonal is not normalised\n",
        "    main_B_diagonal = B[row, row]\n",
        "    x[row] = (b[row] - np.dot(B[row, row + 1:-1], x[row + 1:])) / main_B_diagonal\n",
        "  return x\n",
        "\n",
        "\n",
        "A = np.array(pyamg.gallery.laplacian.poisson((5, 5)).todense())\n",
        "A = np.random.rand(5, 5)\n",
        "y = np.array([1.0, 2.0, 3.0, 4.0, 5.0])\n",
        "b = A @ y\n",
        "\n",
        "gaussian_elimation(A,b)"
      ],
      "metadata": {
        "id": "g7NV5_Lj2suO",
        "outputId": "450945da-3c99-4022-ba93-eaabc596ce96",
        "colab": {
          "base_uri": "https://localhost:8080/"
        }
      },
      "execution_count": 46,
      "outputs": [
        {
          "output_type": "execute_result",
          "data": {
            "text/plain": [
              "array([1., 2., 3., 4., 5.])"
            ]
          },
          "metadata": {},
          "execution_count": 46
        }
      ]
    },
    {
      "cell_type": "code",
      "source": [
        "#@title Solution to exercise\n",
        "\n",
        "def gaussian_elim(A, b):\n",
        "  B = np.concatenate((A, b.reshape(b.shape[0], 1)), axis=1)\n",
        "  for row in range(B.shape[0] - 1):\n",
        "    diag = B[row, row]\n",
        "    for i in range(row + 1, B.shape[0]):\n",
        "      B[i, :] -= B[row, :] * B[i, row]/diag\n",
        "\n",
        "  x = np.empty(B.shape[0])\n",
        "  for i in range(B.shape[0] - 1, -1, -1):\n",
        "    x[i] = (B[i, -1] - np.dot(B[i, i + 1:-1], x[i + 1:])) / B[i, i]\n",
        "\n",
        "  return x\n",
        "\n",
        "A = np.random.rand(5, 5)\n",
        "b = np.arange(A.shape[0])\n",
        "\n",
        "print(A)\n",
        "print(b)\n",
        "y = A @ b\n",
        "print(y)\n",
        "\n",
        "np.set_printoptions(suppress=True)\n",
        "print(gaussian_elim(A, y))\n"
      ],
      "metadata": {
        "cellView": "form",
        "id": "SOVeEH8-tMGs"
      },
      "execution_count": null,
      "outputs": []
    },
    {
      "cell_type": "code",
      "source": [],
      "metadata": {
        "id": "hBh6KRRIxJ-B"
      },
      "execution_count": null,
      "outputs": []
    }
  ]
}