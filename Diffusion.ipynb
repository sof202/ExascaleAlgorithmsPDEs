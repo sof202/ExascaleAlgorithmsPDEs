{
  "cells": [
    {
      "cell_type": "markdown",
      "id": "b9e3cef8",
      "metadata": {
        "id": "b9e3cef8"
      },
      "source": [
        "## Diffusion equation\n",
        "\n",
        "Aim: To experiment with a forward in time, centred in space\n",
        "scheme for integrating the linear diffusion equation\n",
        "\n",
        "\\begin{equation}\n",
        "\\frac{\\partial \\phi}{\\partial t} = K \\frac{\\partial^2 \\phi}{\\partial x^2}\n",
        "\\end{equation}\n",
        "\n",
        "on a periodic domain $0 \\le x \\le 1$. The initial condition is\n",
        "given as\n",
        "\n",
        "\\begin{equation}\n",
        "\\phi(x,0) = \\left\\{\n",
        "\\begin{array}{l}\n",
        "1\\ \\ \\ \\ \\mathrm{if\\ } 1/4 \\le x \\le 3/4 \\\\\n",
        "0\\ \\ \\ \\ \\mathrm{otherwise}\n",
        "\\end{array}\n",
        "\\right.\n",
        "\\end{equation}\n",
        "\n",
        "Write a python procedure to solve this using a forward in time, centered in space method. Take $\\Delta x=1/20$\n",
        "and $\\Delta t=0.001$. You can use numpy arrays to store the solution and you might find the numpy routines linspace and roll useful.\n",
        "\n",
        "\n",
        "Run the procedure. Is the output what you expect? Experiment with the\n",
        "initial conditions. What happens to a sine wave? Or half a sine wave?\n",
        "\n",
        "\n",
        "Modify the procedure to use double the number of grid points in\n",
        "the $x$-direction, and compile and run it again? Is the\n",
        "solution more accurate? What happens?\n",
        "\n",
        "Use the theory given in lectures to calculate the maximum stable\n",
        "timestep at this new resolution. Modify the procedure to use\n",
        "a stable time step and compile it and run it again. Now is\n",
        "it more accurate than before?\n",
        "\n",
        "### Extension\n",
        "\n",
        "Create a new procedure that uses a\n",
        "backward Euler time step instead of a forward Euler time step. You\n",
        "will have to formulate the tridiagonal system of simultaneous\n",
        "equations for the $\\phi_j^{n+1}$, then numpy functions to solve that system.\n",
        "\n",
        "Run your new procedure for the original $\\Delta x$\n",
        "and $\\Delta t$.\n",
        "Compare the accuracy of the two schemes.\n",
        "\n",
        "Now double the number of grid points in the $x$-direction\n",
        "and recompile and run your new procedure. Does it remain stable?\n",
        "How big can you make the time step without it blowing up?\n",
        "\n",
        "\n"
      ]
    },
    {
      "cell_type": "code",
      "source": [
        "import numpy as np\n",
        "import matplotlib.pyplot as plt"
      ],
      "metadata": {
        "id": "0c7vxlyCRxfC"
      },
      "id": "0c7vxlyCRxfC",
      "execution_count": 1,
      "outputs": []
    },
    {
      "cell_type": "code",
      "execution_count": 46,
      "id": "af420470",
      "metadata": {
        "id": "af420470"
      },
      "outputs": [],
      "source": [
        "def create_space(space_parameters):\n",
        "  space_start = space_parameters[0]\n",
        "  space_end = space_parameters[1]\n",
        "  space_step = space_parameters[2]\n",
        "  # Add one here to account for end (or start) of array\n",
        "  number_of_samples = int((space_end - space_start) / space_step) + 1\n",
        "  x_space = np.linspace(space_start, space_end, number_of_samples)\n",
        "  return x_space"
      ]
    },
    {
      "cell_type": "code",
      "source": [
        "def create_initial_phi(x_space):\n",
        "  return np.where((x_space >= 0.25) & (x_space <= 0.75), 1, 0)"
      ],
      "metadata": {
        "id": "g7mb8nIHZtjW"
      },
      "id": "g7mb8nIHZtjW",
      "execution_count": 42,
      "outputs": []
    },
    {
      "cell_type": "code",
      "source": [
        "def forward_euler_time_step(x_parameters, t_parameters, initial_phi, K):\n",
        "  x_step = x_parameters[2]\n",
        "  t_step = t_parameters[2]\n",
        "\n",
        "  x_space = create_space(x_parameters)\n",
        "  t_space = create_space(t_parameters)\n",
        "\n",
        "  phi = create_initial_phi(x_space)\n",
        "\n",
        "  for time in t_space:\n",
        "    phi_next = ((K * t_step) / (x_step)**2) * (np.roll(phi, -1) - 2 * phi + np.roll(phi, 1)) + phi\n",
        "    phi = phi_next\n",
        "\n",
        "  return phi"
      ],
      "metadata": {
        "id": "5rXUqnuxbGzT"
      },
      "id": "5rXUqnuxbGzT",
      "execution_count": 53,
      "outputs": []
    },
    {
      "cell_type": "code",
      "source": [
        "# Parameters\n",
        "x_start = 0\n",
        "x_end = 1\n",
        "x_step = 0.05\n",
        "x_parameters = (x_start, x_end, x_step)\n",
        "\n",
        "t_start = 0\n",
        "t_end = 0.1\n",
        "t_step = 0.001\n",
        "t_parameters = (t_start, t_end, t_step)\n",
        "\n",
        "K = 1"
      ],
      "metadata": {
        "id": "_MNLoDEnTUiN"
      },
      "id": "_MNLoDEnTUiN",
      "execution_count": 56,
      "outputs": []
    },
    {
      "cell_type": "code",
      "source": [
        "forward_euler_time_step(x_parameters, t_parameters, initial_phi, K)"
      ],
      "metadata": {
        "id": "im8iAXNXVGUM",
        "outputId": "0b275566-cf29-4de2-9683-afbcc0df2293",
        "colab": {
          "base_uri": "https://localhost:8080/"
        }
      },
      "id": "im8iAXNXVGUM",
      "execution_count": 57,
      "outputs": [
        {
          "output_type": "execute_result",
          "data": {
            "text/plain": [
              "array([0.50751529, 0.50896311, 0.5117301 , 0.5155704 , 0.52014278,\n",
              "       0.52504096, 0.52982972, 0.53408356, 0.5374245 , 0.5395557 ,\n",
              "       0.54028778, 0.5395557 , 0.5374245 , 0.53408356, 0.52982972,\n",
              "       0.52504096, 0.52014278, 0.5155704 , 0.5117301 , 0.50896311,\n",
              "       0.50751529])"
            ]
          },
          "metadata": {},
          "execution_count": 57
        }
      ]
    },
    {
      "cell_type": "code",
      "source": [
        "a = np.array([1,2,3])\n",
        "np.vstack([a, [1,2,3]])"
      ],
      "metadata": {
        "id": "_8GqjfLvftvb",
        "outputId": "5159c751-97d2-4ce4-ba6b-17c161157064",
        "colab": {
          "base_uri": "https://localhost:8080/"
        }
      },
      "id": "_8GqjfLvftvb",
      "execution_count": 61,
      "outputs": [
        {
          "output_type": "execute_result",
          "data": {
            "text/plain": [
              "array([[1, 2, 3],\n",
              "       [1, 2, 3]])"
            ]
          },
          "metadata": {},
          "execution_count": 61
        }
      ]
    }
  ],
  "metadata": {
    "kernelspec": {
      "display_name": "Python 3 (ipykernel)",
      "language": "python",
      "name": "python3"
    },
    "language_info": {
      "codemirror_mode": {
        "name": "ipython",
        "version": 3
      },
      "file_extension": ".py",
      "mimetype": "text/x-python",
      "name": "python",
      "nbconvert_exporter": "python",
      "pygments_lexer": "ipython3",
      "version": "3.9.19"
    },
    "colab": {
      "provenance": []
    }
  },
  "nbformat": 4,
  "nbformat_minor": 5
}