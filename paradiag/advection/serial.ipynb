{
 "cells": [
  {
   "cell_type": "markdown",
   "id": "94ec44ef",
   "metadata": {},
   "source": [
    "# Scalar advection-diffusion using sequential timestepping\n",
    "\n",
    "We will solve scalar advection-diffusion using serial timestepping and the implicit theta method.\n",
    "\n",
    "Scalar advection-diffusion is a model linear PDE describing the transport of a passive scalar $q$ by a specified velocity field $u$ and diffusion with a coefficient $\\nu$:\n",
    "\n",
    "$$\n",
    "\\partial_{t}q + u\\partial_{x}q - \\nu\\partial^{2}_{xx}q = 0\n",
    "$$\n",
    "\n",
    "We will usually combine the two gradient terms into a single spatial residual matrix $\\textbf{K}$:\n",
    "\n",
    "$$\n",
    "\\partial_{t}q + \\textbf{K}q = 0\n",
    "$$\n",
    "\n",
    "\n",
    "## Time discretisation\n",
    "\n",
    "The implicit theta method is a single-step method which includes the first order forward and backward Euler methods and the second order trapezium rule method as special cases.\n",
    "\n",
    "The solution $q$ is discretised in time, with the discrete solution $q^{n}$ approximating $q(t^{n})$, where $t^{n}=n\\Delta t$ and $\\Delta t$ is the timestep size. The implicit theta method provides an update from the current timestep $q^{n}$ to the next timestep $q^{n+1}$ by:\n",
    "\n",
    "$$\n",
    "\\textbf{M}\\frac{q^{n+1}-q^{n}}{\\Delta t} + \\theta \\textbf{K}q^{n+1} + (1-\\theta)\\textbf{K}q^{n} = 0\n",
    "$$\n",
    "\n",
    "The time derivative is approximated using simple finite differences, and the right hand side is approximated by a weighted sum of the values at the current and next timestep. When $\\theta=0$ we have the explicit forward Euler method, when $\\theta=1$ we have the implicit backward Euler method, and when $\\theta=0.5$ we have the trapezium rule. This method is first order in time unless $\\theta=0.5$ for which it is second order.\n",
    "We have included the mass matrix $\\textbf{M}$ for completeness, but for finite difference and finite volume this is just the identity.\n",
    "\n",
    "## Implementing the discretisation\n",
    "\n",
    "Now that we have a timestepping method, we can begin implementing it.\n",
    "We will solve the advection diffusion equation on a periodic 1D domain. The spatial gradient terms will be implemented using finite differences, so the domain is split into a number of discrete mesh points.\n",
    "First we define the number of timesteps `nt`, the number of mesh points `nx`, the size of the domain `lx`.\n",
    "\n",
    "The velocity is 1 everywhere, and the viscosity $\\nu$ is calculated by enforcing the Reynolds number $Re=uL/\\nu$, which describes whether advection or diffusion forces dominate. $Re\\gg1$ will give an advection dominated flow which will not decay quickly.\n",
    "\n",
    "The timestep is calculated by enforcing the CFL number $\\sigma=u\\Delta t/\\Delta x$. If $\\sigma<1$ then the advection velocity has travelled less than the distance between mesh points $\\Delta x$ within one timestep, which will give higher accuracy than $\\sigma>1$."
   ]
  },
  {
   "cell_type": "code",
   "execution_count": null,
   "id": "229b772a",
   "metadata": {},
   "outputs": [],
   "source": [
    "from math import pi\n",
    "nt = 256\n",
    "nx = 128\n",
    "\n",
    "lx = 2*pi\n",
    "dx = lx/nx\n",
    "\n",
    "theta = 0.5\n",
    "\n",
    "# velocity, CFL, and reynolds number\n",
    "u = 1\n",
    "re = 500\n",
    "cfl = 0.8\n",
    "\n",
    "# calculate the viscosity and timestep\n",
    "nu = lx*u/re\n",
    "dt = cfl*dx/u\n",
    "\n",
    "# advective and diffusive Courant numbers\n",
    "cfl_u = cfl\n",
    "cfl_v = nu*dt/dx**2\n",
    "\n",
    "print(f\"{nu = }, {dt = }, {cfl_v = }, {cfl_u = }\")\n"
   ]
  },
  {
   "cell_type": "markdown",
   "id": "7205ad89",
   "metadata": {},
   "source": [
    "The domain is $x\\in[-l_{x}/2, l_{x}/2]$ and will be discretised by `nx` equally spaced grid points."
   ]
  },
  {
   "cell_type": "code",
   "execution_count": null,
   "id": "e0fb2e8e",
   "metadata": {},
   "outputs": [],
   "source": [
    "import numpy as np\n",
    "\n",
    "mesh = np.linspace(start=-lx/2, stop=lx/2, num=nx, endpoint=False)"
   ]
  },
  {
   "cell_type": "markdown",
   "id": "e9914926",
   "metadata": {},
   "source": [
    "The spatial derivative can be approximated by second order finite differences:\n",
    "\n",
    "$$\n",
    "\\partial_{x}q|_{i} \\approx \\frac{q_{i+1}-q_{i-1}}{2\\Delta x} + \\mathcal{O}(\\Delta x^{2})\n",
    "$$\n",
    "and for the second derivative:\n",
    "$$\n",
    "\\partial^{2}_{xx}q|_{i} \\approx \\frac{q_{i+1}-2q_{i}+q_{i-1}}{\\Delta x^{2}} + \\mathcal{O}(\\Delta x^{2}),\n",
    "$$\n",
    "where $q_{i}$ is the approximation of the solution at grid point $i$.\n",
    "\n",
    "Two convenience functions are provided, `gradient_stencil` returns an array for a centred difference gradient stencil, and `sparse_circulant` returns a scipy sparse matrix for that stencil on a periodic mesh (which is itself circulant)."
   ]
  },
  {
   "cell_type": "code",
   "execution_count": null,
   "id": "50fcb280-f942-431f-a4ec-202e208103bf",
   "metadata": {},
   "outputs": [],
   "source": [
    "from scipy import sparse\n",
    "\n",
    "# Finite difference spatial discretisations                                                                                                                                                   \n",
    "def gradient_stencil(grad, order):                                                                                                                                                            \n",
    "    '''                                                                                                                                                                                       \n",
    "    Return the centred stencil for the `grad`-th gradient                                                                                                                                     \n",
    "    of order of accuracy `order`                                                                                                                                                              \n",
    "    '''                                                                                                                                                                                       \n",
    "    return {                                                                                                                                                                                  \n",
    "        1: {  # first gradient                                                                                                                                                                \n",
    "            2: np.array([-1/2, 0, 1/2]),                                                                                                                                                      \n",
    "            4: np.array([1/12, -2/3, 0, 2/3, -1/12]),                                                                                                                                         \n",
    "            6: np.array([-1/60, 3/20, -3/4, 0, 3/4, -3/20, 1/60])                                                                                                                             \n",
    "        },                                                                                                                                                                                    \n",
    "        2: {  # second gradient                                                                                                                                                               \n",
    "            2: np.array([1, -2, 1]),                                                                                                                                                          \n",
    "            4: np.array([-1/12, 4/3, -5/2, 4/3, -1/12]),                                                                                                                                      \n",
    "            6: np.array([1/90, -3/20, 3/2, -49/18, 3/2, -3/20, 1/90])                                                                                                                         \n",
    "        },                                                                                                                                                                                    \n",
    "        4: {  # fourth gradient                                                                                                                                                               \n",
    "            2: np.array([1,  -4, 6, -4, 1]),                                                                                                                                                  \n",
    "            4: np.array([-1/6, 2, -13/2, 28/3, -13/2, 2, -1/6]),                                                                                                                              \n",
    "            6: np.array([7/240, -2/5, 169/60, -122/15, 91/8, -122/15, 169/60, -2/5, 7/240])  # noqa: E501                                                                                     \n",
    "        }                                                                                                                                                                                     \n",
    "    }[grad][order]                                                                                                                                                                            \n",
    "                                                                                                                                                                                              \n",
    "                                                                                                                                                                                              \n",
    "def sparse_circulant(stencil, n):                                                                                                                                                             \n",
    "    '''                                                                                                                                                                                       \n",
    "    Return sparse scipy matrix from finite difference                                                                                                                                         \n",
    "    stencil on a periodic grid of size n.                                                                                                                                                     \n",
    "    '''                                                                                                                                                                                       \n",
    "    if len(stencil) == 1:                                                                                                                                                                     \n",
    "        return sparse.spdiags([stencil[0]*np.ones(n)], 0)                                                                                                                                     \n",
    "                                                                                                                                                                                              \n",
    "    # extend stencil to include periodic overlaps                                                                                                                                             \n",
    "    ns = len(stencil)                                                                                                                                                                         \n",
    "    noff = (ns-1)//2                                                                                                                                                                          \n",
    "    pstencil = np.zeros(ns+2*noff)                                                                                                                                                            \n",
    "                                                                                                                                                                                              \n",
    "    pstencil[noff:-noff] = stencil                                                                                                                                                            \n",
    "    pstencil[:noff] = stencil[noff+1:]                                                                                                                                                        \n",
    "    pstencil[-noff:] = stencil[:noff]                                                                                                                                                         \n",
    "                                                                                                                                                                                              \n",
    "    # constant diagonals of stencil entries                                                                                                                                                   \n",
    "    pdiags = np.tile(pstencil[:, np.newaxis], n)                                                                                                                                              \n",
    "                                                                                                                                                                                              \n",
    "    # offsets for inner domain and periodic overlaps                                                                                                                                          \n",
    "    offsets = np.zeros_like(pstencil, dtype=int)                                                                                                                                              \n",
    "                                                                                                                                                                                              \n",
    "    offsets[:noff] = [-n+1+i for i in range(noff)]                                                                                                                                            \n",
    "    offsets[noff:-noff] = [-noff+i for i in range(2*noff+1)]                                                                                                                                  \n",
    "    offsets[-noff:] = [n-noff+i for i in range(noff)]                                                                                                                                         \n",
    "                                                                                                                                                                                              \n",
    "    return sparse.spdiags(pdiags, offsets)"
   ]
  },
  {
   "cell_type": "markdown",
   "id": "7e3a8bbf-eacd-49db-a344-cac89c6d3026",
   "metadata": {},
   "source": [
    "Now we can create the finite difference matrices for these operators. We also need a mass matrix for the time derivative, which for finite difference methods is just the identity matrix."
   ]
  },
  {
   "cell_type": "code",
   "execution_count": null,
   "id": "f2171bc4-9e1d-4d0b-bf66-74c0a222ab15",
   "metadata": {},
   "outputs": [],
   "source": [
    "# Mass matrix                                                                                                                                                                                 \n",
    "M = sparse_circulant([1], nx)                                                                                                                                                                 \n",
    "                                                                                                                                                                                              \n",
    "# Advection matrix                                                                                                                                                                            \n",
    "D = sparse_circulant(gradient_stencil(1, order=2), nx)                                                                                                                                        \n",
    "                                                                                                                                                                                              \n",
    "# Diffusion matrix                                                                                                                                                                            \n",
    "L = sparse_circulant(gradient_stencil(2, order=2), nx)"
   ]
  },
  {
   "cell_type": "markdown",
   "id": "70e215eb-51da-42ef-91ab-8838250d91fe",
   "metadata": {},
   "source": [
    "Rearranging the implicit theta rule method, we can use $q^{n}$ to calculate $q^{n+1}$ by solving the implicit system:\n",
    "$$\n",
    "\\left(\\textbf{M} + \\Delta t\\theta \\textbf{K}\\right)q^{n+1}\n",
    "= \\left(\\textbf{M} - \\Delta t\\left(1-\\theta\\right)\\textbf{K}\\right)q^{n}\n",
    "$$\n",
    "$$\n",
    "\\textbf{A}_{1}q^{n+1} = \\textbf{A}_{0}q^{n}\n",
    "$$\n",
    "\n",
    "The matrices for the left and right hand sides are below. We attach a `solve` method to the left hand side by prefactoring the sparse matrix."
   ]
  },
  {
   "cell_type": "code",
   "execution_count": null,
   "id": "4360ebfb",
   "metadata": {},
   "outputs": [],
   "source": [
    "from scipy.sparse import linalg as spla\n",
    "\n",
    "# Spatial terms                                                                                                                                                                               \n",
    "K = (u/dx)*D - (nu/dx**2)*L                                                                                                                                                                   \n",
    "                                                                                                                                                                                              \n",
    "# A0*q^{n} + A1*q^{n+1} = 0                                                                                                                                                                   \n",
    "A0 = -M/dt + (1 - theta)*K                                                                                                                                                                    \n",
    "A1 = M/dt + theta*K                                                                                                                                                                           \n",
    "A1.solve = spla.factorized(A1.tocsc())"
   ]
  },
  {
   "cell_type": "markdown",
   "id": "3852be4e",
   "metadata": {},
   "source": [
    "With the numerical scheme created, we can now set up the initial conditions (an isolated bump) and integrate N timesteps."
   ]
  },
  {
   "cell_type": "code",
   "execution_count": null,
   "id": "83edf082",
   "metadata": {},
   "outputs": [],
   "source": [
    "# initial conditions                                                                                                                                                                          \n",
    "qinit = np.zeros_like(mesh)                                                                                                                                                                   \n",
    "qinit[:] = np.cos(mesh/2)**4                                                                                                                                                                  \n",
    "                                                                                                                                                                                              \n",
    "# calculate timeseries                                                                                                                                                                        \n",
    "q = np.zeros((nt+1, len(qinit)))                                                                                                                                                              \n",
    "q[0] = qinit                                                                                                                                                                                  \n",
    "                                                                                                                                                                                              \n",
    "for i in range(nt-1):                                                                                                                                                                         \n",
    "    q[i+1] = A1.solve(-A0.dot(q[i]))"
   ]
  },
  {
   "cell_type": "markdown",
   "id": "3b223668",
   "metadata": {},
   "source": [
    "Visualise the solution with matplotlib. Only every `nplot` timesteps are plotted for clarity."
   ]
  },
  {
   "cell_type": "code",
   "execution_count": null,
   "id": "b6051d49",
   "metadata": {},
   "outputs": [],
   "source": [
    "import matplotlib.pyplot as plt                                                                                                                                                           \n",
    "nplot = 32\n",
    "plt.plot(mesh, qinit, label='ic')                                                                                                                                                         \n",
    "for i in range(nplot, nt, nplot):                                                                                                                                       \n",
    "    plt.plot(mesh, q[i+1], label=str(i))                                                                                                                                                  \n",
    "plt.legend(loc='center left')                                                                                                                                                             \n",
    "plt.grid()"
   ]
  },
  {
   "cell_type": "code",
   "execution_count": null,
   "id": "bcf2db80",
   "metadata": {},
   "outputs": [],
   "source": []
  }
 ],
 "metadata": {
  "kernelspec": {
   "display_name": "Python 3 (ipykernel)",
   "language": "python",
   "name": "python3"
  },
  "language_info": {
   "codemirror_mode": {
    "name": "ipython",
    "version": 3
   },
   "file_extension": ".py",
   "mimetype": "text/x-python",
   "name": "python",
   "nbconvert_exporter": "python",
   "pygments_lexer": "ipython3",
   "version": "3.10.12"
  }
 },
 "nbformat": 4,
 "nbformat_minor": 5
}
