{
 "cells": [
  {
   "cell_type": "markdown",
   "id": "48d843f3",
   "metadata": {},
   "source": [
    "# Dalhquist's ODE using sequential timestepping\n",
    "\n",
    "We will solve Dalhquist's model linear ODE using serial timestepping and the implicit theta method.\n",
    "\n",
    "Dalhquist's test equation is a very simple linear ODE, and is useful for testing and demonstrating time integration methods:\n",
    "\n",
    "$$\n",
    "\\partial_{t}q(t) = f(q,t) = \\lambda q(t) + b(t)\n",
    "$$\n",
    "\n",
    "The solutions to the homogeneous equation $(b=0)$ are exponentials with the form:\n",
    "\n",
    "$$\n",
    "q(t) = q(0)e^{\\lambda t}\n",
    "$$\n",
    "\n",
    "In general $\\lambda=a+ib$ can be complex, which leads to oscillitory solutions with frequency $b$ and a decay rate $a$. For the solution to remain bounded for $t\\geq0$ we require $a\\leq0$ so that the solution decays.\n",
    "\n",
    "## Time discretisation\n",
    "\n",
    "The implicit theta method is a single-step method which includes the first order forward and backward Euler methods, and the second order trapezium rule method as special cases.\n",
    "\n",
    "The solution $q$ is discretised in time, with the discrete solution $q^{n}$ approximating $q(t^{n})$, where $t^{n}=n\\Delta t$ and $\\Delta t$ is the timestep size. The implicit theta method provides an update from the current timestep $q^{n}$ to the next timestep $q^{n+1}$ by:\n",
    "\n",
    "$$\n",
    "\\frac{q^{n+1}-q^{n}}{\\Delta t} = \\theta f(q^{n+1}, t^{n+1}) + (1-\\theta)f(q^{n}, t^{n})\n",
    "$$\n",
    "\n",
    "The time derivative is approximated using simple finite differences, and the right hand side is approximated by a weighted sum of the values at the current and next timestep. When $\\theta=0$ we have the explicit forward Euler method, when $\\theta=1$ we have the implicit backward Euler method, and when $\\theta=0.5$ we have the trapezium rule.\n",
    "\n",
    "## Implementing the discretisation\n",
    "\n",
    "Now that we have a timestepping method, we can begin implementing it to find a time series of the solution.\n",
    "First we define the simulation time `T`, the number of timesteps `nt`, the timestep size `dt`, the theta method parameter `theta`, the initial condition `q0`, and the eigenvalue `lamda`. We choose a $\\lambda$ with a small real part so it decays only very gradually. This means that we can solve for longer times without the solution decaying to zero."
   ]
  },
  {
   "cell_type": "code",
   "execution_count": null,
   "id": "a6087d20",
   "metadata": {},
   "outputs": [],
   "source": [
    "T = 102.4\n",
    "nt = 1024\n",
    "dt = T/nt\n",
    "theta = 0.5\n",
    "lamda = -0.01 + 1.0j\n",
    "q0 = 1"
   ]
  },
  {
   "cell_type": "markdown",
   "id": "ed3053cf",
   "metadata": {},
   "source": [
    "Next we set up the array to store the timeseries and set the initial condition."
   ]
  },
  {
   "cell_type": "code",
   "execution_count": null,
   "id": "2d2db0c1",
   "metadata": {},
   "outputs": [],
   "source": [
    "import numpy as np\n",
    "\n",
    "q = np.zeros(nt+1, dtype=complex)\n",
    "q[0] = q0"
   ]
  },
  {
   "cell_type": "markdown",
   "id": "c39ca371",
   "metadata": {},
   "source": [
    "We will add some forcing to the system in the form of gaussian profiles centred at various timepoints. The exact values don't matter, it will just make the solution a little more interesting."
   ]
  },
  {
   "cell_type": "code",
   "execution_count": null,
   "id": "f48260f9",
   "metadata": {},
   "outputs": [],
   "source": [
    "def b(t):\n",
    "    bb = 0\n",
    "    bb += 2*np.exp(-(t-9.5)*(t-9.5))\n",
    "    bb += 0.5*np.exp(-(t-21.3)*(t-21.3)/4)\n",
    "    bb += -5*np.exp(-(t-48.7)*(t-48.7)/9)\n",
    "    return bb"
   ]
  },
  {
   "cell_type": "markdown",
   "id": "fc5739cd",
   "metadata": {},
   "source": [
    "Next is the timestepping loop. At each iteration `i` we need to calculate the next timestep `q[i+1]` using the current timestep `q[i]` and the forcing `b`:"
   ]
  },
  {
   "cell_type": "code",
   "execution_count": null,
   "id": "dc6de2a7",
   "metadata": {},
   "outputs": [],
   "source": [
    "for i in range(nt):\n",
    "    # implement the timestepping iteration here\n",
    "    tn = i*dt\n",
    "    tn1 = (i+1)*dt\n",
    "    \n",
    "    bb = (1-theta)*b(tn) + theta*b(tn1)\n",
    "\n",
    "    rhs = (1 + dt*(1-theta)*lamda)*q[i] + dt*bb\n",
    "    lhs = (1 - dt*theta*lamda)\n",
    "    \n",
    "    q[i+1] = rhs/lhs"
   ]
  },
  {
   "cell_type": "markdown",
   "id": "857d384e",
   "metadata": {},
   "source": [
    "Now we can visualise the evolution of $q$ over time."
   ]
  },
  {
   "cell_type": "code",
   "execution_count": null,
   "id": "d4e8cd86",
   "metadata": {},
   "outputs": [],
   "source": [
    "import matplotlib.pyplot as plt\n",
    "\n",
    "time = np.linspace(0, nt*dt, num=nt+1, endpoint=True)\n",
    "\n",
    "plt.plot(time, q.real)\n",
    "plt.show()"
   ]
  },
  {
   "cell_type": "code",
   "execution_count": null,
   "id": "d38ed2cc-b450-40f1-a9f6-24414076a98e",
   "metadata": {},
   "outputs": [],
   "source": []
  }
 ],
 "metadata": {
  "kernelspec": {
   "display_name": "Python 3 (ipykernel)",
   "language": "python",
   "name": "python3"
  },
  "language_info": {
   "codemirror_mode": {
    "name": "ipython",
    "version": 3
   },
   "file_extension": ".py",
   "mimetype": "text/x-python",
   "name": "python",
   "nbconvert_exporter": "python",
   "pygments_lexer": "ipython3",
   "version": "3.10.12"
  }
 },
 "nbformat": 4,
 "nbformat_minor": 5
}
