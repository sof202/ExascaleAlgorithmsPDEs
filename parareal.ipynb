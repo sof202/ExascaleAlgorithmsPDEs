{
 "cells": [
  {
   "cell_type": "code",
   "execution_count": null,
   "id": "d6274ac3",
   "metadata": {},
   "outputs": [],
   "source": [
    "import numpy as np\n",
    "import matplotlib.pyplot as plt"
   ]
  },
  {
   "cell_type": "markdown",
   "id": "a60d0eab",
   "metadata": {},
   "source": [
    "## Parareal\n",
    "To solve the initial value problem\n",
    "\\begin{align*}\n",
    "  u_t &= f(t, u), \\quad t \\in (0, T], \\\\\n",
    "  u(0) &= u^0\n",
    "\\end{align*}\n",
    "using the parareal algorithm, we require two integrators or propagators:\n",
    "1. $G(t, u)$ is a coarse approximation\n",
    "2. $F(t, u)$ is a more accurate, or fine, approximation\n",
    "\n",
    "We partition the time domain into intervals (time-slices, or chunks) and use the coarse approximation $G$ to give us an initial condition for $F$ on each interval.\n",
    "\n",
    "The more accurate (i.e. _expensive!_) approximation can now be computed in parallel for all slices at once, although obviously the later time slices do not have an accurate initial condition.\n",
    "\n",
    "We iterate, correcting the initial condition on each interval:\n",
    "  \\begin{align*}\n",
    "    u_0^{k+1} &= u^0 \\\\\n",
    "    u_{n+1}^{k+1} &= F(u_n^k) + G(u_n^{k+1}) - G(u_n^k)\n",
    "  \\end{align*}"
   ]
  },
  {
   "cell_type": "markdown",
   "id": "d5fafcaa",
   "metadata": {},
   "source": [
    "We will first apply parareal to the Lorenz63 chaotic system, using an RK4 method for both the coarse and the fine propagators. The coarse propagator will take a larger timestep than the fine. There are functions provided below to compute the right hand side of the Lorenz system and a single RK4 timestep."
   ]
  },
  {
   "cell_type": "code",
   "execution_count": null,
   "id": "0357a9b2",
   "metadata": {},
   "outputs": [],
   "source": [
    "def lorenz63(X, sigma=10, beta=8/3, rho=28):\n",
    "    \"\"\"\n",
    "    Given:\n",
    "       X: a point of interest in three dimensional space\n",
    "       sigma, rho, beta: parameters defining the lorenz attractor\n",
    "    Returns:\n",
    "       x_dot, y_dot, z_dot: values of the lorenz attractor's partial\n",
    "           derivatives at the point x, y, z\n",
    "    \"\"\"\n",
    "    x, y, z = X\n",
    "    xdot = sigma * (y - x)\n",
    "    ydot = x*(rho - z) - y \n",
    "    zdot = x*y - beta*z\n",
    "    return np.array([xdot, ydot, zdot])"
   ]
  },
  {
   "cell_type": "code",
   "execution_count": null,
   "id": "3d6a394f",
   "metadata": {},
   "outputs": [],
   "source": [
    "def rk4(dt, x, f, **f_kwargs):\n",
    "    \"\"\"\n",
    "    A single timestep for rhs function f using RK4\n",
    "    \"\"\"\n",
    "    x1 = f(x, **f_kwargs)  \n",
    "\n",
    "    x2 = f(x+x1*dt/2.0, **f_kwargs)\n",
    "    x3 = f(x+x2*dt/2.0, **f_kwargs)\n",
    "    x4 = f(x+x3*dt, **f_kwargs)\n",
    "    x_out = x + dt*(x1 + 2*x2 + 2*x3 + x4)/6.0\n",
    "    return x_out"
   ]
  },
  {
   "cell_type": "markdown",
   "id": "63151acf",
   "metadata": {},
   "source": [
    "We will reproduce the results from Gander and Hairer 2007. The initial condition and timesteps are given below."
   ]
  },
  {
   "cell_type": "code",
   "execution_count": null,
   "id": "6ec40367",
   "metadata": {},
   "outputs": [],
   "source": [
    "# initial condition\n",
    "X0 = np.array((5, -5, 20))\n",
    "\n",
    "# final time\n",
    "t_max = 10\n",
    "\n",
    "# total number of coarse timesteps\n",
    "Nc = 180\n",
    "\n",
    "# coarse timestep\n",
    "Dt = t_max/Nc\n",
    "\n",
    "# total number of fine timesteps\n",
    "total_Nf = 14400\n",
    "\n",
    "# number of fine timesteps per coarse timestep\n",
    "Nf = int(total_Nf/Nc)\n",
    "\n",
    "# fine timestep\n",
    "dt = t_max/total_Nf\n",
    "\n",
    "# specify rhs function\n",
    "rhs = lorenz63\n",
    "\n",
    "# compute the first iteration using the coarse propagator\n",
    "#### FILL THIS IN\n",
    "\n",
    "# number of iterations\n",
    "nits = 6\n",
    "\n",
    "# now write an iteration loop using the coarse propagator as an initial condition for\n",
    "# the fine propagator on each time interval\n",
    "for k in range(nits):\n",
    "    ### FILL THIS IN\n",
    "    \n",
    "    # Now compute the corrections\n",
    "    for i in range(Nc-1):\n"
   ]
  },
  {
   "cell_type": "markdown",
   "id": "4f21dd54",
   "metadata": {},
   "source": [
    "We will now investigate the behaviour of parareal applied to the Dahlquist equation.\n",
    "\n",
    "## Exercises\n",
    "1. Apply parareal to the Dahlquist equation with $\\lambda=-1$ and initial condition $x=1$. Run until $t=1$ and use 10 coarse timesteps and 20 fine timesteps per coarse timestep.\n",
    "2. Now set $\\lambda=2i$ so that the solution is oscillatory. Investigate the effect of changing the coarse timestep - when does the solution converge? "
   ]
  },
  {
   "cell_type": "code",
   "execution_count": null,
   "id": "c4a4987d",
   "metadata": {},
   "outputs": [],
   "source": [
    "def dahlquist(x, lamda=-1):\n",
    "    return lamda*x"
   ]
  },
  {
   "cell_type": "code",
   "execution_count": null,
   "id": "a23ac622",
   "metadata": {},
   "outputs": [],
   "source": [
    "def exact_soln(t, lamda):\n",
    "    return np.exp(lamda*t)"
   ]
  },
  {
   "cell_type": "code",
   "execution_count": null,
   "id": "ce2e2d85",
   "metadata": {},
   "outputs": [],
   "source": []
  }
 ],
 "metadata": {
  "kernelspec": {
   "display_name": "Python 3 (ipykernel)",
   "language": "python",
   "name": "python3"
  },
  "language_info": {
   "codemirror_mode": {
    "name": "ipython",
    "version": 3
   },
   "file_extension": ".py",
   "mimetype": "text/x-python",
   "name": "python",
   "nbconvert_exporter": "python",
   "pygments_lexer": "ipython3",
   "version": "3.9.19"
  }
 },
 "nbformat": 4,
 "nbformat_minor": 5
}
